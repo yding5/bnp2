{
 "cells": [
  {
   "cell_type": "code",
   "execution_count": 1,
   "metadata": {},
   "outputs": [],
   "source": [
    "using DrWatson\n",
    "@quickactivate\n",
    "using BNP2"
   ]
  },
  {
   "cell_type": "code",
   "execution_count": null,
   "metadata": {},
   "outputs": [],
   "source": [
    "# function sample_initial_condition()\n",
    "#     ...\n",
    "#     return ms, Q, P\n",
    "# end\n",
    "\n",
    "# For Akash: change the function below\n",
    "function sample_initial_condition()\n",
    "    ms = [1e4, 1e0, 5e0] * 5e10\n",
    "    Q = cat(\n",
    "        [ 0e0, 0e0], \n",
    "        [ 2e0, 0e0], \n",
    "        [-1e0, 0e0]; dims=2\n",
    "    )\n",
    "    P = cat(\n",
    "        [0e0,  0e0], \n",
    "        [0e0,  1e0], \n",
    "        [0e0, -2e0]; dims=2\n",
    "    ) * 1e2\n",
    "    return ms, Q, P\n",
    "end\n",
    "\n",
    "function sample_traj(ms, Q, P, dt=1e-3, T=100; do_preview=true)\n",
    "    env = Space(Particle.(ms, Q, P))\n",
    "    traj = simulate(env, DiffEqSimulator(dt), T)\n",
    "    traj = [env, traj...]\n",
    "    \n",
    "    do_preview && HTML(animof(traj).to_html5_video()) |> display\n",
    "end\n",
    "\n",
    "sample_traj(sample_initial_condition()...; do_preview=true)"
   ]
  },
  {
   "cell_type": "code",
   "execution_count": null,
   "metadata": {},
   "outputs": [],
   "source": []
  }
 ],
 "metadata": {
  "kernelspec": {
   "display_name": "Julia 1.3.0",
   "language": "julia",
   "name": "julia-1.3"
  },
  "language_info": {
   "file_extension": ".jl",
   "mimetype": "application/julia",
   "name": "julia",
   "version": "1.3.0"
  }
 },
 "nbformat": 4,
 "nbformat_minor": 4
}
