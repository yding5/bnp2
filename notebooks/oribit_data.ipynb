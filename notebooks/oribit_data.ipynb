{
 "cells": [
  {
   "cell_type": "code",
   "execution_count": null,
   "metadata": {},
   "outputs": [],
   "source": [
    "using DrWatson\n",
    "@quickactivate\n",
    "using BNP2"
   ]
  },
  {
   "cell_type": "code",
   "execution_count": null,
   "metadata": {},
   "outputs": [],
   "source": [
    "let ms = [1e4, 1e0, 5e0] * 5e10,\n",
    "    Q = cat(\n",
    "        [ 0e0, 0e0], \n",
    "        [ 2e0, 0e0], \n",
    "        [-1e0, 0e0]; dims=2\n",
    "    ),\n",
    "    P = cat(\n",
    "        [0e0,  0e0], \n",
    "        [0e0,  1e0], \n",
    "        [0e0, -2e0]; dims=2\n",
    "    ) * 1e2,\n",
    "    dt = 1e-3, T = 100,\n",
    "    \n",
    "    env = Space(Particle.(ms, Q, P))\n",
    "    traj = simulate(env, DiffEqSimulator(dt), T)\n",
    "    traj = [env, traj...]\n",
    "    \n",
    "    HTML(animof(traj).to_html5_video()) |> display\n",
    "end"
   ]
  },
  {
   "cell_type": "code",
   "execution_count": null,
   "metadata": {},
   "outputs": [],
   "source": []
  }
 ],
 "metadata": {
  "kernelspec": {
   "display_name": "Julia 1.3.0",
   "language": "julia",
   "name": "julia-1.3"
  },
  "language_info": {
   "file_extension": ".jl",
   "mimetype": "application/julia",
   "name": "julia",
   "version": "1.3.0"
  }
 },
 "nbformat": 4,
 "nbformat_minor": 4
}
