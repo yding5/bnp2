{
 "cells": [
  {
   "cell_type": "code",
   "execution_count": 1,
   "metadata": {},
   "outputs": [],
   "source": [
    "using PyCall, Turing\n",
    "import PyPlot; plt = PyPlot\n",
    ";"
   ]
  },
  {
   "cell_type": "code",
   "execution_count": 2,
   "metadata": {},
   "outputs": [],
   "source": [
    "pymunk, math, sys, random = pyimport.([\"pymunk\", \"math\", \"sys\", \"random\"])\n",
    ";"
   ]
  },
  {
   "cell_type": "code",
   "execution_count": 3,
   "metadata": {},
   "outputs": [
    {
     "data": {
      "text/plain": [
       "create_env (generic function with 1 method)"
      ]
     },
     "execution_count": 3,
     "metadata": {},
     "output_type": "execute_result"
    }
   ],
   "source": [
    "function create_env(g, m, r, pos_0, vel_0)\n",
    "    space = pymunk.Space()\n",
    "    space.gravity = (0.0, g)\n",
    "    mass = m\n",
    "    radius = r\n",
    "    inertia = pymunk.moment_for_circle(mass, 0, radius, (0,0))\n",
    "    body = pymunk.Body(mass, inertia)\n",
    "    body.position = pos_0[1], pos_0[2]\n",
    "    body.velocity = vel_0[1], vel_0[2]\n",
    "    shape = pymunk.Circle(body, radius, (0,0))\n",
    "    space.add(body, shape)\n",
    "    return space\n",
    "end"
   ]
  },
  {
   "cell_type": "code",
   "execution_count": 4,
   "metadata": {},
   "outputs": [
    {
     "data": {
      "image/png": "[encoded data removed]",
      "text/plain": [
       "PyPlot.Figure(PyObject <Figure size 400x400 with 1 Axes>)"
      ]
     },
     "metadata": {},
     "output_type": "display_data"
    },
    {
     "name": "stderr",
     "output_type": "stream",
     "text": [
      "┌ Warning: `getindex(o::PyObject, i::Integer)` is deprecated, use `get(o, i - 1)` instead.\n",
      "│   caller = top-level scope at In[4]:12\n",
      "└ @ Core ./In[4]:12\n",
      "┌ Warning: `getindex(o::PyObject, i::Integer)` is deprecated, use `get(o, i - 1)` instead.\n",
      "│   caller = top-level scope at In[4]:13\n",
      "└ @ Core ./In[4]:13\n"
     ]
    }
   ],
   "source": [
    "#Simulate observations\n",
    "space = create_env(-9.8, 1, 25, [0.0,0.0], [10.0, 20.0])\n",
    "positions_x = []\n",
    "positions_y = []\n",
    "\n",
    "#Simulate for N time steps\n",
    "time_steps = 10\n",
    "positions = Array{Float64,2}(undef, 2, time_steps)\n",
    "for i in 1:time_steps\n",
    "    space.shapes[1].body.apply_force_at_world_point(force=(0.0,-10.0), point=(0,0))#(body.position[1],body.position[2]))\n",
    "    space.step(1/10)\n",
    "    append!(positions_x, space.shapes[1].body.position[1])\n",
    "    append!(positions_y, space.shapes[1].body.position[2])\n",
    "    positions[:,i] .= space.shapes[1].body.position\n",
    "end\n",
    "plt.figure(figsize=(4,4))\n",
    "plt.scatter(positions_x, positions_y);"
   ]
  },
  {
   "cell_type": "code",
   "execution_count": 10,
   "metadata": {},
   "outputs": [
    {
     "name": "stderr",
     "output_type": "stream",
     "text": [
      "┌ Warning: `getindex(o::PyObject, i::Integer)` is deprecated, use `get(o, i - 1)` instead.\n",
      "│   caller = macro expansion at In[10]:12 [inlined]\n",
      "└ @ Core ./In[10]:12\n",
      "┌ Warning: `getindex(o::PyObject, i::Integer)` is deprecated, use `get(o, i - 1)` instead.\n",
      "│   caller = macro expansion at In[10]:12 [inlined]\n",
      "└ @ Core ./In[10]:12\n",
      "┌ Warning: `getindex(o::PyObject, i::Integer)` is deprecated, use `get(o, i - 1)` instead.\n",
      "│   caller = macro expansion at In[10]:12 [inlined]\n",
      "└ @ Core ./In[10]:12\n",
      "┌ Warning: `getindex(o::PyObject, i::Integer)` is deprecated, use `get(o, i - 1)` instead.\n",
      "│   caller = macro expansion at In[10]:12 [inlined]\n",
      "└ @ Core ./In[10]:12\n",
      "\u001b[32mProgress: 100%|█████████████████████████████████████████| Time: 0:04:52\u001b[39m\n"
     ]
    },
    {
     "data": {
      "text/plain": [
       "Object of type Chains, with data of type 500×5×1 Array{Float64,3}\n",
       "\n",
       "Log evidence      = -9.210782429641798e9\n",
       "Iterations        = 1:500\n",
       "Thinning interval = 1\n",
       "Chains            = 1\n",
       "Samples per chain = 500\n",
       "internals         = le, lp, weight\n",
       "parameters        = F[1], F[2]\n",
       "\n",
       "2-element Array{ChainDataFrame,1}\n",
       "\n",
       "Summary Statistics\n",
       ". Omitted printing of 1 columns\n",
       "│ Row │ parameters │ mean     │ std         │ naive_se    │ mcse    │ ess     │\n",
       "│     │ \u001b[90mSymbol\u001b[39m     │ \u001b[90mFloat64\u001b[39m  │ \u001b[90mFloat64\u001b[39m     │ \u001b[90mFloat64\u001b[39m     │ \u001b[90mFloat64\u001b[39m │ \u001b[90mAny\u001b[39m     │\n",
       "├─────┼────────────┼──────────┼─────────────┼─────────────┼─────────┼─────────┤\n",
       "│ 1   │ F[1]       │ 6.5585   │ 4.44534e-15 │ 1.98802e-16 │ 0.0     │ 2.00803 │\n",
       "│ 2   │ F[2]       │ -16.6673 │ 3.55627e-15 │ 1.59041e-16 │ 0.0     │ 2.00803 │\n",
       "\n",
       "Quantiles\n",
       "\n",
       "│ Row │ parameters │ 2.5%     │ 25.0%    │ 50.0%    │ 75.0%    │ 97.5%    │\n",
       "│     │ \u001b[90mSymbol\u001b[39m     │ \u001b[90mFloat64\u001b[39m  │ \u001b[90mFloat64\u001b[39m  │ \u001b[90mFloat64\u001b[39m  │ \u001b[90mFloat64\u001b[39m  │ \u001b[90mFloat64\u001b[39m  │\n",
       "├─────┼────────────┼──────────┼──────────┼──────────┼──────────┼──────────┤\n",
       "│ 1   │ F[1]       │ 6.5585   │ 6.5585   │ 6.5585   │ 6.5585   │ 6.5585   │\n",
       "│ 2   │ F[2]       │ -16.6673 │ -16.6673 │ -16.6673 │ -16.6673 │ -16.6673 │\n"
      ]
     },
     "execution_count": 10,
     "metadata": {},
     "output_type": "execute_result"
    }
   ],
   "source": [
    "@model single_force(pos_list) = begin\n",
    "    F ~ MvNormal(zeros(2), 10 * ones(2))\n",
    "    #Define initial params of environment\n",
    "    space = create_env(-9.8, 1, 25, [0.0,0.0], [10.0, 20.0])\n",
    "    #Simulate environment\n",
    "    for i in 1:size(pos_list)[2]\n",
    "        #Apply force\n",
    "        space.shapes[1].body.apply_force_at_world_point(force=(F[1],F[2]), point=(0,0))\n",
    "        #Step simulation\n",
    "        space.step(1/10)\n",
    "        #Retrieve updated position\n",
    "        pos = vec([space.shapes[1].body.position[1], space.shapes[1].body.position[2]])\n",
    "        pos_list[:,i] ~ MvNormal(pos, 0.1)\n",
    "    end\n",
    "end\n",
    "chain = sample(single_force(positions), PG(100), 500)"
   ]
  }
 ],
 "metadata": {
  "kernelspec": {
   "display_name": "Julia 1.3.1",
   "language": "julia",
   "name": "julia-1.3"
  },
  "language_info": {
   "file_extension": ".jl",
   "mimetype": "application/julia",
   "name": "julia",
   "version": "1.3.1"
  }
 },
 "nbformat": 4,
 "nbformat_minor": 2
}
