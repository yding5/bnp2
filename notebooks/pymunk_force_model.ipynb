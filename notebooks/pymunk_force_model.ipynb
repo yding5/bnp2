{
 "cells": [
  {
   "cell_type": "code",
   "execution_count": 63,
   "metadata": {},
   "outputs": [
    {
     "name": "stderr",
     "output_type": "stream",
     "text": [
      "┌ Info: Precompiling PyPlot [d330b81b-6aea-500a-939a-2ce795aea3ee]\n",
      "└ @ Base loading.jl:1273\n"
     ]
    }
   ],
   "source": [
    "using PyCall, Turing\n",
    "import PyPlot; plt = PyPlot\n",
    ";"
   ]
  },
  {
   "cell_type": "code",
   "execution_count": 52,
   "metadata": {},
   "outputs": [],
   "source": [
    "pymunk, math, sys, random = pyimport.([\"pymunk\", \"math\", \"sys\", \"random\"])\n",
    ";"
   ]
  },
  {
   "cell_type": "code",
   "execution_count": 99,
   "metadata": {},
   "outputs": [
    {
     "name": "stderr",
     "output_type": "stream",
     "text": [
      "┌ Warning: `getindex(o::PyObject, i::Integer)` is deprecated, use `get(o, i - 1)` instead.\n",
      "│   caller = top-level scope at In[99]:18\n",
      "└ @ Core ./In[99]:18\n",
      "┌ Warning: `getindex(o::PyObject, i::Integer)` is deprecated, use `get(o, i - 1)` instead.\n",
      "│   caller = top-level scope at In[99]:19\n",
      "└ @ Core ./In[99]:19\n"
     ]
    }
   ],
   "source": [
    "space = pymunk.Space()\n",
    "space.gravity = (0.0, -900.0)\n",
    "\n",
    "positions_x = []\n",
    "positions_y = []\n",
    "mass = 10\n",
    "radius = 25\n",
    "inertia = pymunk.moment_for_circle(mass, 0, radius, (0,0))\n",
    "body = pymunk.Body(mass, inertia)\n",
    "body.position = 0, 0\n",
    "shape = pymunk.Circle(body, radius, Vec2d(0,0))\n",
    "space.add(body, shape)\n",
    "# space.shapes[1].body.apply_impulse_at_local_point((-1000,0))\n",
    "space.shapes[1].body.apply_force_at_world_point(force=(-1000,0), point=(1000,0))\n",
    "\n",
    "for i in 1:20\n",
    "    space.step(1/60)\n",
    "    append!(positions_x, space.shapes[1].body.position[1])\n",
    "    append!(positions_y, space.shapes[1].body.position[2])\n",
    "end"
   ]
  },
  {
   "cell_type": "code",
   "execution_count": 100,
   "metadata": {},
   "outputs": [
    {
     "data": {
      "image/png": "[encoded data removed]",
      "text/plain": [
       "PyPlot.Figure(PyObject <Figure size 640x480 with 1 Axes>)"
      ]
     },
     "metadata": {},
     "output_type": "display_data"
    },
    {
     "data": {
      "text/plain": [
       "PyObject <matplotlib.collections.PathCollection object at 0x15b691fd0>"
      ]
     },
     "execution_count": 100,
     "metadata": {},
     "output_type": "execute_result"
    }
   ],
   "source": [
    "plt.scatter(positions_x, positions_y)"
   ]
  },
  {
   "cell_type": "code",
   "execution_count": null,
   "metadata": {},
   "outputs": [],
   "source": []
  }
 ],
 "metadata": {
  "kernelspec": {
   "display_name": "Julia 1.3.1",
   "language": "julia",
   "name": "julia-1.3"
  },
  "language_info": {
   "file_extension": ".jl",
   "mimetype": "application/julia",
   "name": "julia",
   "version": "1.3.1"
  }
 },
 "nbformat": 4,
 "nbformat_minor": 2
}
