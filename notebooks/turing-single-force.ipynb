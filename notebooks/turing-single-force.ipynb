{
 "cells": [
  {
   "cell_type": "code",
   "execution_count": 1,
   "metadata": {},
   "outputs": [
    {
     "name": "stderr",
     "output_type": "stream",
     "text": [
      "┌ Info: CUDAdrv.jl failed to initialize, GPU functionality unavailable (set JULIA_CUDA_SILENT or JULIA_CUDA_VERBOSE to silence or expand this message)\n",
      "└ @ CUDAdrv /Users/colehurwitz/.julia/packages/CUDAdrv/b1mvw/src/CUDAdrv.jl:67\n"
     ]
    }
   ],
   "source": [
    "using OrdinaryDiffEq, MLToolkit.Plots"
   ]
  },
  {
   "cell_type": "code",
   "execution_count": 2,
   "metadata": {},
   "outputs": [
    {
     "data": {
      "text/plain": [
       "getforce (generic function with 1 method)"
      ]
     },
     "execution_count": 2,
     "metadata": {},
     "output_type": "execute_result"
    }
   ],
   "source": [
    "abstract type AbstractObject end\n",
    "\n",
    "struct Particle{R<:Real, V<:AbstractVector{R}} <: AbstractObject\n",
    "    mass::R\n",
    "    position::V\n",
    "    velocity::V\n",
    "end\n",
    "\n",
    "massof(p::Particle) = p.mass\n",
    "positionof(p::Particle) = p.position\n",
    "velocityof(p::Particle) = p.velocity\n",
    "\n",
    "###\n",
    "\n",
    "abstract type AbstractForce end\n",
    "\n",
    "struct Force{V<:AbstractVector{<:Real}} <: AbstractForce\n",
    "    F::V\n",
    "end\n",
    "\n",
    "forceof(f::Force) = f.F\n",
    "\n",
    "###\n",
    "\n",
    "abstract type AbstractEnvironment end\n",
    "\n",
    "struct Earth{F<:AbstractForce} <: AbstractEnvironment\n",
    "    force::F\n",
    "end\n",
    "\n",
    "getforce(earth::Earth, p::Particle) = forceof(earth.force) + massof(p) * [0.0, -9.8]"
   ]
  },
  {
   "cell_type": "code",
   "execution_count": 3,
   "metadata": {},
   "outputs": [],
   "source": [
    "function step(obj::T, env; dt=0.1) where {T<:Particle}\n",
    "    # d position d t = velocity\n",
    "    dpdt(pos, vel, p, t) = vel\n",
    "    # d velocity d t = acceleration\n",
    "    dvdt(pos, vel, p, t) = getforce(env, obj) / massof(obj)\n",
    "\n",
    "    problem = DynamicalODEProblem(dpdt, dvdt, positionof(obj), velocityof(obj), (0.0, 1.0))\n",
    "    integrator = init(problem, VerletLeapfrog(); dt=dt)\n",
    "    step!(integrator, dt)\n",
    "    \n",
    "    return T(massof(obj), integrator.u.x[1], integrator.u.x[2])\n",
    "end\n",
    "\n",
    "function steps(obj::T, env, n_steps; dt=0.1) where {T<:Particle}\n",
    "    path = Vector{T}(undef, n_steps)\n",
    "    for i in 1:n_steps\n",
    "        path[i] = step(obj, env; dt=dt)\n",
    "        obj = path[i]\n",
    "    end\n",
    "    return path\n",
    "end\n",
    "\n",
    "obj = Particle(1.0, [0.0, 0.0], [10.0, 20.0])\n",
    "env = Earth(Force([0.0, -10.0]))\n",
    "\n",
    "traj = steps(obj, env, 10)\n",
    "\n",
    ";"
   ]
  },
  {
   "cell_type": "code",
   "execution_count": 4,
   "metadata": {},
   "outputs": [
    {
     "ename": "UndefVarError",
     "evalue": "UndefVarError: TwoDimPath not defined",
     "output_type": "error",
     "traceback": [
      "UndefVarError: TwoDimPath not defined",
      "",
      "Stacktrace:",
      " [1] plot(::Particle{Float64,Array{Float64,1}}, ::Earth{Force{Array{Float64,1}}}) at ./In[4]:11",
      " [2] plot_data() at ./In[4]:29",
      " [3] top-level scope at In[4]:30"
     ]
    }
   ],
   "source": [
    "function plot(obj, env)\n",
    "    traj = steps(obj, env, 10)\n",
    "\n",
    "    pos = hcat(positionof.(traj)...)\n",
    "    vel = hcat(velocityof.(traj)...)\n",
    "    spd = sqrt.(dropdims(sum(vel.^2; dims=1); dims=1))\n",
    "\n",
    "    ncols = 3\n",
    "    fig, axes = plt.subplots(nrows=1, ncols=ncols, figsize=(ncols * 5, 5))\n",
    "    let ax = axes[1]\n",
    "        plot!(ax, TwoDimPath(pos), \"-o\"; first=(marker=\"x\", color=\"black\"))\n",
    "        ax.set_title(\"Position\")\n",
    "        ax.axis(\"equal\")\n",
    "    end\n",
    "    let ax = axes[2]\n",
    "        plot!(ax, TwoDimPath(vel), \"-o\"; first=(marker=\"x\", color=\"black\"))\n",
    "        ax.set_title(\"Velocity\")\n",
    "        ax.axis(\"equal\")\n",
    "    end\n",
    "\n",
    "    let ax = axes[3]\n",
    "        ax.plot(spd, \"-o\")\n",
    "        ax.set_title(\"Speed\")\n",
    "    end\n",
    "    \n",
    "    return fig\n",
    "end\n",
    "\n",
    "plot_data() = plot(obj, env)\n",
    "\n",
    "plot_data() |> display\n",
    "\n",
    ";"
   ]
  },
  {
   "cell_type": "code",
   "execution_count": 5,
   "metadata": {},
   "outputs": [],
   "source": [
    "using Turing"
   ]
  },
  {
   "cell_type": "code",
   "execution_count": 6,
   "metadata": {},
   "outputs": [
    {
     "name": "stderr",
     "output_type": "stream",
     "text": [
      "\u001b[32mProgress: 100%|█████████████████████████████████████████| Time: 0:00:29\u001b[39m\n"
     ]
    },
    {
     "data": {
      "text/plain": [
       "Object of type Chains, with data of type 500×5×1 Array{Float64,3}\n",
       "\n",
       "Log evidence      = 20.713216278172762\n",
       "Iterations        = 1:500\n",
       "Thinning interval = 1\n",
       "Chains            = 1\n",
       "Samples per chain = 500\n",
       "internals         = le, lp, weight\n",
       "parameters        = F[1], F[2]\n",
       "\n",
       "2-element Array{ChainDataFrame,1}\n",
       "\n",
       "Summary Statistics\n",
       ". Omitted printing of 1 columns\n",
       "│ Row │ parameters │ mean    │ std      │ naive_se   │ mcse      │ ess     │\n",
       "│     │ \u001b[90mSymbol\u001b[39m     │ \u001b[90mFloat64\u001b[39m │ \u001b[90mFloat64\u001b[39m  │ \u001b[90mFloat64\u001b[39m    │ \u001b[90mFloat64\u001b[39m   │ \u001b[90mAny\u001b[39m     │\n",
       "├─────┼────────────┼─────────┼──────────┼────────────┼───────────┼─────────┤\n",
       "│ 1   │ F[1]       │ 0.18467 │ 0.474368 │ 0.0212144  │ 0.0502233 │ 6.84746 │\n",
       "│ 2   │ F[2]       │ -10.113 │ 0.149285 │ 0.00667621 │ 0.0367561 │ 4.38726 │\n",
       "\n",
       "Quantiles\n",
       "\n",
       "│ Row │ parameters │ 2.5%      │ 25.0%    │ 50.0%    │ 75.0%    │ 97.5%    │\n",
       "│     │ \u001b[90mSymbol\u001b[39m     │ \u001b[90mFloat64\u001b[39m   │ \u001b[90mFloat64\u001b[39m  │ \u001b[90mFloat64\u001b[39m  │ \u001b[90mFloat64\u001b[39m  │ \u001b[90mFloat64\u001b[39m  │\n",
       "├─────┼────────────┼───────────┼──────────┼──────────┼──────────┼──────────┤\n",
       "│ 1   │ F[1]       │ -0.209788 │ 0.175253 │ 0.184957 │ 0.267834 │ 0.267834 │\n",
       "│ 2   │ F[2]       │ -10.2369  │ -10.2369 │ -10.0938 │ -10.0205 │ -10.0205 │\n"
      ]
     },
     "execution_count": 6,
     "metadata": {},
     "output_type": "execute_result"
    }
   ],
   "source": [
    "@model single_force(pos_list, vel_list) = begin\n",
    "    F ~ MvNormal(zeros(2), 10 * ones(2))\n",
    "    \n",
    "    obj = Particle(1.0, [0.0, 0.0], [10.0, 20.0])\n",
    "    env = Earth(Force(F))\n",
    "    \n",
    "    for i in 1:length(pos_list)\n",
    "        obj′ = step(obj, env; dt=0.1)\n",
    "        pos_list[i] ~ MvNormal(positionof(obj′), 0.1)\n",
    "        vel_list[i] = vel_list[i]\n",
    "        obj = obj′\n",
    "    end\n",
    "end\n",
    "chain = sample(single_force(positionof.(traj), velocityof.(traj)), PG(100), 500)"
   ]
  },
  {
   "cell_type": "code",
   "execution_count": 16,
   "metadata": {},
   "outputs": [
    {
     "data": {
      "text/plain": [
       "2-element Array{Float64,1}:\n",
       " 2.0  \n",
       " 3.604"
      ]
     },
     "execution_count": 16,
     "metadata": {},
     "output_type": "execute_result"
    }
   ],
   "source": [
    "positionof.(traj)[2]"
   ]
  },
  {
   "cell_type": "code",
   "execution_count": 7,
   "metadata": {},
   "outputs": [
    {
     "name": "stderr",
     "output_type": "stream",
     "text": [
      "\u001b[32mProgress: 100%|█████████████████████████████████████████| Time: 0:02:15\u001b[39m\n"
     ]
    },
    {
     "data": {
      "text/plain": [
       "Object of type Chains, with data of type 500×7×1 Array{Float64,3}\n",
       "\n",
       "Log evidence      = -4787.350058053319\n",
       "Iterations        = 1:500\n",
       "Thinning interval = 1\n",
       "Chains            = 1\n",
       "Samples per chain = 500\n",
       "internals         = le, lp, weight\n",
       "parameters        = F[1], F[2], velocity[1], velocity[2]\n",
       "\n",
       "2-element Array{ChainDataFrame,1}\n",
       "\n",
       "Summary Statistics\n",
       ". Omitted printing of 1 columns\n",
       "│ Row │ parameters  │ mean      │ std      │ naive_se  │ mcse     │ ess     │\n",
       "│     │ \u001b[90mSymbol\u001b[39m      │ \u001b[90mFloat64\u001b[39m   │ \u001b[90mFloat64\u001b[39m  │ \u001b[90mFloat64\u001b[39m   │ \u001b[90mFloat64\u001b[39m  │ \u001b[90mAny\u001b[39m     │\n",
       "├─────┼─────────────┼───────────┼──────────┼───────────┼──────────┼─────────┤\n",
       "│ 1   │ F[1]        │ -0.461948 │ 3.87942  │ 0.173493  │ 1.36043  │ 5.83467 │\n",
       "│ 2   │ F[2]        │ -7.91299  │ 4.67508  │ 0.209076  │ 1.4259   │ 4.36312 │\n",
       "│ 3   │ velocity[1] │ 9.97618   │ 0.986076 │ 0.0440987 │ 0.284643 │ 5.55745 │\n",
       "│ 4   │ velocity[2] │ 19.5883   │ 1.11058  │ 0.0496667 │ 0.284506 │ 5.96186 │\n",
       "\n",
       "Quantiles\n",
       "\n",
       "│ Row │ parameters  │ 2.5%     │ 25.0%    │ 50.0%    │ 75.0%    │ 97.5%   │\n",
       "│     │ \u001b[90mSymbol\u001b[39m      │ \u001b[90mFloat64\u001b[39m  │ \u001b[90mFloat64\u001b[39m  │ \u001b[90mFloat64\u001b[39m  │ \u001b[90mFloat64\u001b[39m  │ \u001b[90mFloat64\u001b[39m │\n",
       "├─────┼─────────────┼──────────┼──────────┼──────────┼──────────┼─────────┤\n",
       "│ 1   │ F[1]        │ -1.88638 │ -1.88638 │ -1.79381 │ -1.79381 │ 11.6251 │\n",
       "│ 2   │ F[2]        │ -9.86388 │ -9.86388 │ -9.86388 │ -8.02454 │ 3.52193 │\n",
       "│ 3   │ velocity[1] │ 7.17752  │ 10.2138  │ 10.2813  │ 10.2813  │ 10.2813 │\n",
       "│ 4   │ velocity[2] │ 17.102   │ 19.8642  │ 19.8766  │ 19.8766  │ 19.8766 │\n"
      ]
     },
     "execution_count": 7,
     "metadata": {},
     "output_type": "execute_result"
    }
   ],
   "source": [
    "@model single_force(pos_list, vel_list) = begin\n",
    "    velocity ~ MvNormal(zeros(2), 10 * ones(2))\n",
    "    F ~ MvNormal(zeros(2), 10 * ones(2))\n",
    "    \n",
    "    obj = Particle(1.0, [0.0, 0.0], velocity)\n",
    "    env = Earth(Force(F))\n",
    "    \n",
    "    for i in 1:length(pos_list)\n",
    "        obj′ = step(obj, env; dt=0.1)\n",
    "        pos_list[i] ~ MvNormal(positionof(obj′), 0.1)\n",
    "        vel_list[i] ~ MvNormal(velocityof(obj′), 0.1)\n",
    "        obj = obj′\n",
    "    end\n",
    "end\n",
    "chain = sample(single_force(positionof.(traj), velocityof.(traj)), PG(500), 500)"
   ]
  },
  {
   "cell_type": "code",
   "execution_count": 8,
   "metadata": {},
   "outputs": [],
   "source": [
    "# res = get(chain[401:500], [:F])\n",
    "# res = get(chain[401:500], [:F, :velocity])\n",
    "# plot(Particle(1.0, [0.0, 0.0], [mean.(res.velocity)...]), Earth(Force([mean.(res.F)...]))) |> display\n",
    "# plot_data() |> display"
   ]
  },
  {
   "cell_type": "code",
   "execution_count": null,
   "metadata": {},
   "outputs": [],
   "source": []
  },
  {
   "cell_type": "code",
   "execution_count": 9,
   "metadata": {},
   "outputs": [],
   "source": [
    "using PyCall\n",
    "pymunk = pyimport.([\"pymunk\"]);"
   ]
  },
  {
   "cell_type": "code",
   "execution_count": null,
   "metadata": {},
   "outputs": [],
   "source": []
  },
  {
   "cell_type": "code",
   "execution_count": null,
   "metadata": {},
   "outputs": [],
   "source": []
  }
 ],
 "metadata": {
  "kernelspec": {
   "display_name": "Julia 1.3.1",
   "language": "julia",
   "name": "julia-1.3"
  },
  "language_info": {
   "file_extension": ".jl",
   "mimetype": "application/julia",
   "name": "julia",
   "version": "1.3.1"
  }
 },
 "nbformat": 4,
 "nbformat_minor": 2
}
