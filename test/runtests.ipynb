{
 "cells": [
  {
   "cell_type": "code",
   "execution_count": 1,
   "metadata": {},
   "outputs": [
    {
     "name": "stderr",
     "output_type": "stream",
     "text": [
      "┌ Info: Precompiling BNP2 [91a68366-b384-5123-a8f1-3305599cf021]\n",
      "└ @ Base loading.jl:1273\n"
     ]
    }
   ],
   "source": [
    "using Test, DrWatson\n",
    "@quickactivate \"BNP2\"\n",
    "using Revise, BNP2"
   ]
  },
  {
   "cell_type": "code",
   "execution_count": null,
   "metadata": {},
   "outputs": [],
   "source": [
    "include(projectdir(\"test\", \"_World.jl\"))"
   ]
  },
  {
   "cell_type": "code",
   "execution_count": 4,
   "metadata": {},
   "outputs": [
    {
     "name": "stdout",
     "output_type": "stream",
     "text": [
      "\u001b[37m\u001b[1mTest Summary: | \u001b[22m\u001b[39m\u001b[32m\u001b[1mPass  \u001b[22m\u001b[39m\u001b[36m\u001b[1mTotal\u001b[22m\u001b[39m\n",
      "World         | \u001b[32m   6  \u001b[39m\u001b[36m    6\u001b[39m\n"
     ]
    },
    {
     "data": {
      "text/plain": [
       "Test.DefaultTestSet(\"World\", Any[Test.DefaultTestSet(\"Particle\", Any[], 6, false)], 0, false)"
      ]
     },
     "execution_count": 4,
     "metadata": {},
     "output_type": "execute_result"
    }
   ],
   "source": [
    "@testset \"World\" begin\n",
    "    dim = 3\n",
    "    mass = 1.0\n",
    "    state = randn(2, dim)\n",
    "    position = state[1,:]\n",
    "    velocity = state[2,:]\n",
    "    n = 3\n",
    "    ms = fill(mass, n)\n",
    "    states = repeat(state, 1, 1, n)\n",
    "    ps = states[1,:,:]\n",
    "    vs = states[2,:,:]\n",
    "\n",
    "    @testset \"Particle\" begin\n",
    "        p = Particle(mass, state)\n",
    "        @test mass == massof(p)\n",
    "        @test state == stateof(p)\n",
    "        @test position == positionof(p)\n",
    "        @test velocity == velocityof(p)\n",
    "        @test dim == dimensionof(p)\n",
    "        Particle(mass, dim)\n",
    "        Particle(mass, position)\n",
    "        Particle(mass, position, nothing)\n",
    "        Particle(mass, position, velocity)\n",
    "        state′ = rand(size(state)...)\n",
    "        p′ = reconstruct(p, state′)\n",
    "        @test state′ == stateof(p′)\n",
    "        Particle.(ms, states)\n",
    "        Particle.(ms, ps)\n",
    "        Particle.(ms, ps, nothing)\n",
    "        Particle.(ms, ps, vs)\n",
    "    end\n",
    "    \n",
    "#     @testset \"Space\" begin\n",
    "#         obj = Particle(mass, state)\n",
    "#         Space(obj)\n",
    "#         objs = Particle.(ms, states)\n",
    "#         space = Space(objs)\n",
    "#         @test states == stateof(space)'\n",
    "#         @test ps == positionof(space)\n",
    "#         @test vs == velocityof(space)\n",
    "#         @test dim == dimensionof(space)\n",
    "#         @test tuple(objs...) == objectsof(space)\n",
    "#         accelerationof(space)\n",
    "#         states′ = rand(size(states)...)\n",
    "#         space′ = reconstruct(space, states′)\n",
    "#         @test states′ == stateof(space′)'\n",
    "#         ps′ = states′[1,:]\n",
    "#         vs′ = states′[2,:]\n",
    "#         space′ = reconstruct(space, ps′)\n",
    "#         @test ps′ == positionof(space′)\n",
    "#         space′ = reconstruct(space, ps′, nothing)\n",
    "#         @test ps′ == positionof(space′)\n",
    "#         space′ = reconstruct(space, ps′, vs′)\n",
    "#         @test ps′ == positionof(space′)\n",
    "#         @test vs′ == velocityof(space′)\n",
    "#     end\n",
    "end\n"
   ]
  },
  {
   "cell_type": "code",
   "execution_count": 11,
   "metadata": {},
   "outputs": [
    {
     "data": {
      "text/plain": [
       "2×3 Array{Float64,2}:\n",
       " 0.144567  0.156211  0.872525\n",
       " 0.69747   0.608869  0.798725"
      ]
     },
     "execution_count": 11,
     "metadata": {},
     "output_type": "execute_result"
    }
   ],
   "source": [
    "let dim=3, n=4\n",
    "    states = rand(2, dim, n)\n",
    "end"
   ]
  },
  {
   "cell_type": "code",
   "execution_count": null,
   "metadata": {},
   "outputs": [],
   "source": []
  }
 ],
 "metadata": {
  "kernelspec": {
   "display_name": "Julia 1.3.1",
   "language": "julia",
   "name": "julia-1.3"
  },
  "language_info": {
   "file_extension": ".jl",
   "mimetype": "application/julia",
   "name": "julia",
   "version": "1.3.1"
  }
 },
 "nbformat": 4,
 "nbformat_minor": 4
}
