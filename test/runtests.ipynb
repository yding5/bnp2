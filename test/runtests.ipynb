{
 "cells": [
  {
   "cell_type": "code",
   "execution_count": 1,
   "metadata": {},
   "outputs": [
    {
     "name": "stderr",
     "output_type": "stream",
     "text": [
      "┌ Info: Precompiling BNP2 [11504357-4fe5-5405-981c-8cd43ea31635]\n",
      "└ @ Base loading.jl:1273\n"
     ]
    }
   ],
   "source": [
    "using Test, DrWatson\n",
    "@quickactivate \"BNP2\"\n",
    "using Revise, BNP2"
   ]
  },
  {
   "cell_type": "code",
   "execution_count": 283,
   "metadata": {},
   "outputs": [
    {
     "name": "stdout",
     "output_type": "stream",
     "text": [
      "\u001b[37m\u001b[1mTest Summary: | \u001b[22m\u001b[39m\u001b[32m\u001b[1mPass  \u001b[22m\u001b[39m\u001b[36m\u001b[1mTotal\u001b[22m\u001b[39m\n",
      "world         | \u001b[32m  33  \u001b[39m\u001b[36m   33\u001b[39m\n",
      "\u001b[37m\u001b[1mTest Summary: | \u001b[22m\u001b[39m\u001b[32m\u001b[1mPass  \u001b[22m\u001b[39m\u001b[36m\u001b[1mTotal\u001b[22m\u001b[39m\n",
      "simulators    | \u001b[32m  10  \u001b[39m\u001b[36m   10\u001b[39m\n",
      "\u001b[37m\u001b[1mTest Summary: |\u001b[22m\u001b[39m\n",
      "vis           | \u001b[36mNo tests\u001b[39m\n"
     ]
    }
   ],
   "source": [
    "tests = [\n",
    "    \"world\",\n",
    "    \"simulators\",\n",
    "    \"vis\",\n",
    "]\n",
    "\n",
    "for t in tests\n",
    "    include(projectdir(\"test\", \"$t.jl\"))\n",
    "end"
   ]
  },
  {
   "cell_type": "code",
   "execution_count": null,
   "metadata": {},
   "outputs": [],
   "source": []
  }
 ],
 "metadata": {
  "kernelspec": {
   "display_name": "Julia 1.3.0",
   "language": "julia",
   "name": "julia-1.3"
  },
  "language_info": {
   "file_extension": ".jl",
   "mimetype": "application/julia",
   "name": "julia",
   "version": "1.3.0"
  }
 },
 "nbformat": 4,
 "nbformat_minor": 4
}
