{
 "cells": [
  {
   "cell_type": "code",
   "execution_count": 1,
   "metadata": {},
   "outputs": [
    {
     "name": "stderr",
     "output_type": "stream",
     "text": [
      "┌ Info: Precompiling BNP2 [11504357-4fe5-5405-981c-8cd43ea31635]\n",
      "└ @ Base loading.jl:1273\n"
     ]
    }
   ],
   "source": [
    "using Test, DrWatson\n",
    "@quickactivate \"BNP2\"\n",
    "using Revise, BNP2"
   ]
  },
  {
   "cell_type": "code",
   "execution_count": 36,
   "metadata": {},
   "outputs": [
    {
     "name": "stdout",
     "output_type": "stream",
     "text": [
      "\u001b[37m\u001b[1mTest Summary: | \u001b[22m\u001b[39m\u001b[32m\u001b[1mPass  \u001b[22m\u001b[39m\u001b[36m\u001b[1mTotal\u001b[22m\u001b[39m\n",
      "world         | \u001b[32m  33  \u001b[39m\u001b[36m   33\u001b[39m\n"
     ]
    },
    {
     "data": {
      "text/plain": [
       "Test.DefaultTestSet(\"world\", Any[Test.DefaultTestSet(\"Particle\", Any[], 11, false), Test.DefaultTestSet(\"Forced\", Any[], 7, false), Test.DefaultTestSet(\"Bar\", Any[], 0, false), Test.DefaultTestSet(\"GravitationalField\", Any[], 0, false), Test.DefaultTestSet(\"Space\", Any[], 12, false), Test.DefaultTestSet(\"WithStatic\", Any[], 3, false)], 0, false)"
      ]
     },
     "execution_count": 36,
     "metadata": {},
     "output_type": "execute_result"
    }
   ],
   "source": [
    "include(projectdir(\"test\", \"_world.jl\"))"
   ]
  },
  {
   "cell_type": "code",
   "execution_count": null,
   "metadata": {},
   "outputs": [],
   "source": []
  }
 ],
 "metadata": {
  "kernelspec": {
   "display_name": "Julia 1.3.0",
   "language": "julia",
   "name": "julia-1.3"
  },
  "language_info": {
   "file_extension": ".jl",
   "mimetype": "application/julia",
   "name": "julia",
   "version": "1.3.0"
  }
 },
 "nbformat": 4,
 "nbformat_minor": 4
}
